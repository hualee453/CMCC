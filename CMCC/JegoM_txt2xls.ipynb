{
 "cells": [
  {
   "cell_type": "markdown",
   "id": "65916b13",
   "metadata": {},
   "source": [
    "### 将JegoM.txt文件转成所需填入表格中的形式"
   ]
  },
  {
   "cell_type": "code",
   "execution_count": 5,
   "id": "61128655",
   "metadata": {},
   "outputs": [
    {
     "data": {
      "text/plain": [
       "['美国',\n",
       " '52',\n",
       " '澳洲',\n",
       " '13',\n",
       " '比利时',\n",
       " '18',\n",
       " '芬兰',\n",
       " '23',\n",
       " '荷兰',\n",
       " '14',\n",
       " '英国',\n",
       " '24',\n",
       " '加拿大',\n",
       " '19',\n",
       " '香港',\n",
       " '9054']"
      ]
     },
     "execution_count": 5,
     "metadata": {},
     "output_type": "execute_result"
    }
   ],
   "source": [
    "f = open(\"JegoM.txt\", encoding='utf-8')\n",
    "data = f.readline().split()\n",
    "data"
   ]
  },
  {
   "cell_type": "code",
   "execution_count": 6,
   "id": "5cd5a6f8",
   "metadata": {},
   "outputs": [
    {
     "data": {
      "text/plain": [
       "['52', '13', '18', '23', '14', '24', '19', '9054']"
      ]
     },
     "execution_count": 6,
     "metadata": {},
     "output_type": "execute_result"
    }
   ],
   "source": [
    "num_list = data[1::2] # 筛选出偶数\n",
    "num_list"
   ]
  },
  {
   "cell_type": "code",
   "execution_count": 7,
   "id": "698de043",
   "metadata": {},
   "outputs": [
    {
     "data": {
      "text/plain": [
       "['52',\n",
       " ' ',\n",
       " '13',\n",
       " ' ',\n",
       " '18',\n",
       " ' ',\n",
       " '23',\n",
       " ' ',\n",
       " '14',\n",
       " ' ',\n",
       " '24',\n",
       " ' ',\n",
       " '19',\n",
       " ' ',\n",
       " '9054']"
      ]
     },
     "execution_count": 7,
     "metadata": {},
     "output_type": "execute_result"
    }
   ],
   "source": [
    "i = 1\n",
    "while i < len(num_list):\n",
    "    num_list.insert(i, ' ')\n",
    "    i += 2\n",
    "num_list"
   ]
  },
  {
   "cell_type": "code",
   "execution_count": 8,
   "id": "503074cb",
   "metadata": {},
   "outputs": [],
   "source": [
    "import xlwt\n",
    "f = xlwt.Workbook(encoding = 'utf-8') #设置工作簿编码\n",
    "sheet1 = f.add_sheet('sheet1',cell_overwrite_ok=True) #创建sheet工作表\n",
    "for i in range(len(num_list)):\n",
    "    sheet1.write(0,i,num_list[i]) #写入数据参数对应 行, 列, 值\n",
    "f.save('JegoM_output.xls')#保存.xls到当前工作目录"
   ]
  },
  {
   "cell_type": "code",
   "execution_count": null,
   "id": "27257bd6",
   "metadata": {},
   "outputs": [],
   "source": []
  }
 ],
 "metadata": {
  "kernelspec": {
   "display_name": "Python 3.9.9 64-bit",
   "language": "python",
   "name": "python3"
  },
  "language_info": {
   "codemirror_mode": {
    "name": "ipython",
    "version": 3
   },
   "file_extension": ".py",
   "mimetype": "text/x-python",
   "name": "python",
   "nbconvert_exporter": "python",
   "pygments_lexer": "ipython3",
   "version": "3.9.9"
  },
  "vscode": {
   "interpreter": {
    "hash": "4a0b4a5f6e32876ec8298b7b185116bb38e88527914a1a6c85cb7c466bd5e2d2"
   }
  }
 },
 "nbformat": 4,
 "nbformat_minor": 5
}
